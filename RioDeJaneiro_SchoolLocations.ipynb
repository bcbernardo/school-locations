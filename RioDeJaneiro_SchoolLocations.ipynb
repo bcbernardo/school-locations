{
  "nbformat": 4,
  "nbformat_minor": 0,
  "metadata": {
    "colab": {
      "name": "Raio de escolas no Rio de Janeiro.ipynb",
      "version": "0.3.2",
      "provenance": []
    },
    "kernelspec": {
      "name": "python3",
      "display_name": "Python 3"
    }
  },
  "cells": [
    {
      "cell_type": "code",
      "metadata": {
        "id": "kxiAc0vOQASX",
        "colab_type": "code",
        "colab": {}
      },
      "source": [
        "\"\"\" Read csv file into Colaboratory: \"\"\"\n",
        "\n",
        "\n",
        "!pip install -U -q PyDrive\n",
        "from pydrive.auth import GoogleAuth\n",
        "from pydrive.drive import GoogleDrive\n",
        "from google.colab import auth\n",
        "from oauth2client.client import GoogleCredentials\n",
        "\n",
        "\n",
        "# authenticate and create the PyDrive client.\n",
        "auth.authenticate_user()\n",
        "gauth = GoogleAuth()\n",
        "gauth.credentials = GoogleCredentials.get_application_default()\n",
        "drive = GoogleDrive(gauth)\n",
        "\n",
        "# upload dataset with school addresses\n",
        "dataset = drive.CreateFile({'id': '1n5bmOjjsjZ881hQKhpZT3LQEE1hBGJtM'})\n",
        "dataset.GetContentFile('school_addresses.csv')"
      ],
      "execution_count": 0,
      "outputs": []
    },
    {
      "cell_type": "code",
      "metadata": {
        "id": "3a33EmvaNIj8",
        "colab_type": "code",
        "colab": {}
      },
      "source": [
        "\"\"\" Geocoding settings \"\"\"\n",
        "\n",
        "\n",
        "!pip install -U -q geopy shapely\n",
        "import geopy\n",
        "from geopy.exc import GeocoderServiceError\n",
        "from geopy.geocoders import GoogleV3, Here\n",
        "from numpy import nan\n",
        "from shapely.geometry.point import Point\n",
        "\n",
        "\n",
        "# Function to get the georreferenced point for a given (non null) address\n",
        "def geocode(address, geocoders):\n",
        "    result = nan\n",
        "    if pd.notna(address):\n",
        "        for geocoder in geocoders:\n",
        "            try:\n",
        "                response = geocoder.geocode(address)\n",
        "                result = Point(response.longitude, response.latitude)\n",
        "                break\n",
        "            except(TypeError, AttributeError, GeocoderServiceError):\n",
        "                continue\n",
        "    return result\n",
        "\n",
        "# instantiate geopy geocoders\n",
        "GOOGLE_API_KEY = \"#APIKEY\"\n",
        "HERE_APP_ID = \"#APPID\"\n",
        "HERE_APP_CODE = \"#APPCODE\"\n",
        "google = GoogleV3(domain = \"maps.google.com.br\", api_key = GOOGLE_API_KEY)\n",
        "here = Here(app_id = HERE_APP_ID, app_code = HERE_APP_CODE)\n",
        "\n",
        "# set order of preferred geocoders\n",
        "geocoders = (google, here)"
      ],
      "execution_count": 0,
      "outputs": []
    },
    {
      "cell_type": "code",
      "metadata": {
        "id": "o8zv_uzm_81-",
        "colab_type": "code",
        "colab": {}
      },
      "source": [
        "\"\"\"Geocode school addresses\"\"\"\n",
        "\n",
        "\n",
        "import pandas as pd\n",
        "\n",
        "\n",
        "# import local database to a dataframe\n",
        "schools = pd.read_csv(\"school_addresses.csv\")\n",
        "\n",
        "# filter only for schools in Rio de Janeiro\n",
        "schools_rio = schools[schools['CO_MUNICIPIO']==3304557]\n",
        "\n",
        "# add geometry column of schools\n",
        "schools_rio.loc[:, 'address'] = schools_rio[\"DS_ENDERECO\"]\n",
        "com_num = pd.notna(schools_rio[\"NU_ENDERECO\"])\n",
        "schools_rio.loc[com_num, 'address'] += ', ' + schools_rio[\"NU_ENDERECO\"] \n",
        "schools_rio.loc[:, 'address'] += ' - ' + schools_rio[\"NO_MUNICIPIO\"] + ', '+\\\n",
        "    schools_rio[\"SG_UF\"] + \", Brasil\"\n",
        "schools_rio.loc[:, \"geom\"] = schools_rio[\"address\"].apply(\n",
        "    geocode, args=(geocoders,))\n",
        "\n",
        "# delet rows with unsuccessful geocodes\n",
        "schools_rio = schools_rio[pd.notna(schools_rio[\"geom\"])]"
      ],
      "execution_count": 0,
      "outputs": []
    },
    {
      "cell_type": "code",
      "metadata": {
        "id": "GsFTANaZVZGb",
        "colab_type": "code",
        "colab": {}
      },
      "source": [
        "\"\"\" Calculate time to schools by public transports\"\"\"\n",
        "\n",
        "\n",
        "import requests\n",
        "\n",
        "\n",
        "def get_routeTime(geom, lat, lon, arrival):\n",
        "    coord = \"{},{}\".format(geom.y, geom.x)\n",
        "    url = \"https://route.api.here.com/routing/7.2/calculateroute.json\"\n",
        "    url += \"?app_id=\" + HERE_APP_ID + \"&app_code=\" + HERE_APP_CODE\n",
        "    url += \"&waypoint0=geo!{}{}\".format(lat, lon)\n",
        "    url += \"&waypoint1=geo!\" + coord\n",
        "    url += \"&combineChange=true&mode=fastest;publicTransportTimeTable\"\n",
        "    url += \"&arrival=\" + arrival\n",
        "    r = requests.get(url)\n",
        "    response = r.json()\n",
        "    try:\n",
        "        tempo = round(\n",
        "            response['response']['route'][0][\"summary\"][\"baseTime\"]/60)\n",
        "        return tempo\n",
        "    except(KeyError):\n",
        "        return\n",
        "\n",
        "# routes from Rio de Janeiro ground zero to schools at 07a.m.\n",
        "schools_rio.loc[:,\"TimeDistance\"] = schools_valid[\"geom\"].apply(\n",
        "    get_routeTime, args = (\"-22.9190\",\"-43.2150\", \"2018-12-11T07:00:00\"))\n",
        "schools_rio.sort_values(by=\"TimeDistance\", inplace=True)\n",
        "\n",
        "# delete rows with unsuccessful routings\n",
        "schools_rio = schools_rio.loc[pd.notna(schools_rio[\"TimeDistance\"])]"
      ],
      "execution_count": 0,
      "outputs": []
    },
    {
      "cell_type": "code",
      "metadata": {
        "id": "6ZmK1HLRpN9i",
        "colab_type": "code",
        "colab": {}
      },
      "source": [
        "\"\"\" Save as GEOJSON \"\"\"\n",
        "\n",
        "\n",
        "!pip install -U -q geopandas\n",
        "import geopandas as gpd\n",
        "\n",
        "\n",
        "schools_georref = gpd.GeoDataFrame(schools_rio, geometry='geom')\n",
        "schools_georref.to_file(\n",
        "    \"schools_rio.geojson\", driver='GeoJSON', encoding=\"utf-8\")"
      ],
      "execution_count": 0,
      "outputs": []
    }
  ]
}